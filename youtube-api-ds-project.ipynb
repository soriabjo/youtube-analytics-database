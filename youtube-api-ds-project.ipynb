{
 "cells": [
  {
   "cell_type": "markdown",
   "metadata": {},
   "source": [
    "# Part 1 - Gathering YouTube Channel Data"
   ]
  },
  {
   "cell_type": "code",
   "execution_count": null,
   "metadata": {},
   "outputs": [],
   "source": [
    "#import libraries\n",
    "import requests\n",
    "import pandas as pd\n",
    "import numpy as np\n",
    "from dotenv import load_dotenv\n",
    "load_dotenv()\n",
    "import os"
   ]
  },
  {
   "cell_type": "code",
   "execution_count": null,
   "metadata": {},
   "outputs": [],
   "source": [
    "#Gathers views, likes and comments for a particular video ID passes by get_videos\n",
    "#Returns these metrics\n",
    "\n",
    "def video_detail(video_id):\n",
    "        video_stats_url = f'https://www.googleapis.com/youtube/v3/videos?key={API_KEY}&part=statistics&id='+video_id\n",
    "        response_video_stats = requests.get(video_stats_url).json()\n",
    "        views = response_video_stats['items'][0]['statistics']['viewCount']\n",
    "        likes = response_video_stats['items'][0]['statistics']['likeCount']\n",
    "        comments = response_video_stats['items'][0]['statistics']['commentCount']\n",
    "\n",
    "        return views, likes, comments"
   ]
  },
  {
   "cell_type": "code",
   "execution_count": null,
   "metadata": {},
   "outputs": [],
   "source": [
    "#Retrieves the description, caption and definition data by calling on the contentDetails property of API key\n",
    "#for a particular video\n",
    "#Returns these metrics\n",
    "\n",
    "def get_misc_detail(video_id):\n",
    "        misc_info_url = f'https://www.googleapis.com/youtube/v3/videos?key={API_KEY}&part=contentDetails&id='+video_id\n",
    "        response_misc_info = requests.get(misc_info_url).json()\n",
    "\n",
    "        description = response_misc_info['items'][0]['contentDetails']['duration']\n",
    "        caption = response_misc_info['items'][0]['contentDetails']['caption']\n",
    "        definition = response_misc_info['items'][0]['contentDetails']['definition']\n",
    "\n",
    "        return description, caption, definition"
   ]
  },
  {
   "cell_type": "code",
   "execution_count": null,
   "metadata": {},
   "outputs": [],
   "source": [
    "#Retriveves all videos from a Youtube channel\n",
    "\n",
    "def get_videos(df, url):\n",
    "    response = requests.get(url).json()\n",
    "\n",
    "    for video in response['items']:\n",
    "        if video['id']['kind'] == \"youtube#video\":\n",
    "            video_id = video['id']['videoId']\n",
    "            video_title = video['snippet']['title']\n",
    "            video_title = str(video_title).replace(\"&amp;\",\"and\")\n",
    "            upload_date = video['snippet']['publishTime']\n",
    "            upload_date = str(upload_date).split(\"T\")[0]\n",
    "\n",
    "            views, likes, comments = video_detail(video_id)\n",
    "            description, caption, definition = get_misc_detail(video_id)\n",
    "\n",
    "            df = df.append({'video_id':video_id, 'video_title':video_title, 'upload_date': upload_date,\n",
    "                            'views': views,'likes': likes,'comments': comments, 'description': description,\n",
    "                            'caption':caption, 'definition':definition}, ignore_index=True)\n",
    "\n",
    "    #If a new set of video results is present through the nextPageToken\n",
    "    #property, updates the URL and calls function on itself  \n",
    "    if \"nextPageToken\" in response:\n",
    "        pageToken = response['nextPageToken']\n",
    "        url = f'https://www.googleapis.com/youtube/v3/search?key={API_KEY}&channelId={CHANNEL_ID}&part=snippet,id&order=date&maxResults=50&pageToken='+pageToken\n",
    "        #url = f'https://www.googleapis.com/youtube/v3/search?key={API_KEY}&channelId={CHANNEL_ID}&part=snippet,id&order=date&maxResults=50&pageToken='+pageToken\n",
    "        df = get_videos(df, url)   \n",
    "    return df"
   ]
  },
  {
   "cell_type": "code",
   "execution_count": null,
   "metadata": {},
   "outputs": [],
   "source": [
    "#Keys\n",
    "API_KEY = os.getenv(\"API_KEY\")\n",
    "\n",
    "CHANNEL_ID = os.getenv(\"CHANNEL_ID\")"
   ]
  },
  {
   "cell_type": "code",
   "execution_count": null,
   "metadata": {},
   "outputs": [],
   "source": [
    "#Creating a dataframe from data columns pulled from API calls\n",
    "df = pd.DataFrame(columns=['video_id', 'video_title','upload_date','views','likes','comments','description','caption','definition'])\n",
    "\n",
    "#Inital set of video results URL\n",
    "pageToken = \"\"\n",
    "url = f'https://www.googleapis.com/youtube/v3/search?key={API_KEY}&channelId={CHANNEL_ID}&part=snippet,id&order=date&maxResults=50&pageToken='+pageToken\n",
    "\n",
    "df = get_videos(df,url)"
   ]
  },
  {
   "cell_type": "markdown",
   "metadata": {},
   "source": [
    "# Part 2 - Cleaning Data"
   ]
  },
  {
   "cell_type": "code",
   "execution_count": null,
   "metadata": {},
   "outputs": [],
   "source": [
    "df.head()"
   ]
  },
  {
   "cell_type": "code",
   "execution_count": null,
   "metadata": {},
   "outputs": [],
   "source": [
    "#Checking to see if data has successfully been pulled\n",
    "df.shape"
   ]
  },
  {
   "cell_type": "code",
   "execution_count": null,
   "metadata": {},
   "outputs": [],
   "source": [
    "#Checking column datatypes for DF\n",
    "df.dtypes"
   ]
  },
  {
   "cell_type": "code",
   "execution_count": null,
   "metadata": {},
   "outputs": [],
   "source": [
    "#Cleaning DF data types\n",
    "df['views'] = df.views.astype('int64')\n",
    "df['likes'] = df.likes.astype('int64')\n",
    "df['comments'] = df.comments.astype('int64')\n",
    "\n",
    "df['upload_date'] = pd.to_datetime(df['upload_date'])\n",
    "df['year'] = pd.DatetimeIndex(df['upload_date']).year\n",
    "df['month'] = pd.DatetimeIndex(df['upload_date']).month\n",
    "\n",
    "df.rename(columns={'description': 'duration'}, inplace=True)\n",
    "\n",
    "df.dtypes\n"
   ]
  },
  {
   "cell_type": "code",
   "execution_count": null,
   "metadata": {},
   "outputs": [],
   "source": [
    "df.head(5)"
   ]
  },
  {
   "cell_type": "code",
   "execution_count": null,
   "metadata": {},
   "outputs": [],
   "source": [
    "import re\n",
    "\n",
    "def YTDurationToSeconds(duration):\n",
    "    match = re.match('PT((\\d+)H)?((\\d+)M)?((\\d+)S)?', duration).groups()\n",
    "    hours = int(match[1]) if match[1] else 0\n",
    "    minutes = int(match[3]) if match[3] else 0\n",
    "    seconds = int(match[5]) if match[5] else 0\n",
    "    return hours * 3600 + minutes * 60 + seconds"
   ]
  },
  {
   "cell_type": "code",
   "execution_count": null,
   "metadata": {},
   "outputs": [],
   "source": [
    "#Converting 'duration' into total seconds as INT\n",
    "df['duration_seconds'] = df.iloc[0:,6].apply(YTDurationToSeconds)\n",
    "df['duration_seconds'].dtype\n",
    "    "
   ]
  },
  {
   "cell_type": "code",
   "execution_count": null,
   "metadata": {},
   "outputs": [],
   "source": [
    "#Ensuring no duplicate videos, drop if needed\n",
    "df.value_counts(['video_id'])"
   ]
  },
  {
   "cell_type": "code",
   "execution_count": null,
   "metadata": {},
   "outputs": [],
   "source": [
    "df.head(5)"
   ]
  },
  {
   "cell_type": "markdown",
   "metadata": {},
   "source": [
    "Now that we've clean our data for analysis, we can create a database to store a YouTube channel's video info!\n"
   ]
  },
  {
   "cell_type": "markdown",
   "metadata": {},
   "source": [
    "# Part 3 - Storing Data to Database for Future Use\n",
    "## Use Amazon AWS RDB (Postgres) for free database storage!"
   ]
  },
  {
   "cell_type": "code",
   "execution_count": null,
   "metadata": {},
   "outputs": [],
   "source": [
    "#Installing packages\n",
    "%pip install psycopg2\n",
    "import psycopg2 as ps"
   ]
  },
  {
   "cell_type": "code",
   "execution_count": null,
   "metadata": {},
   "outputs": [],
   "source": [
    "#Connecting to AWS Database\n",
    "\n",
    "def connect_database(hostname, user, password, port, dbname):\n",
    "    try:\n",
    "        connection = ps.connect(host=hostname,user=user,password=password,port=port,database=dbname)\n",
    "    except ps.OperationalError as e:\n",
    "        raise e\n",
    "    else:\n",
    "        print('Successfully Connected to AWS Database :)')\n",
    "    return connection"
   ]
  },
  {
   "cell_type": "code",
   "execution_count": null,
   "metadata": {},
   "outputs": [],
   "source": [
    "#Creating SQL table statement\n",
    "def create_table(curr):\n",
    "    create_table_command = (\"\"\"CREATE TABLE IF NOT EXISTS videos (\n",
    "                    video_id VARCHAR(255) PRIMARY KEY,\n",
    "                    video_title TEXT NOT NULL,\n",
    "                    upload_date DATE NOT NULL DEFAULT CURRENT_DATE,\n",
    "                    views INTEGER NOT NULL,\n",
    "                    likes INTEGER NOT NULL,\n",
    "                    comments INTEGER NOT NULL,\n",
    "                    duration TEXT NOT NULL,\n",
    "                    caption TEXT NOT NULL,\n",
    "                    definition TEXT NOT NULL,\n",
    "                    year INTEGER NOT NULL,\n",
    "                    month INTEGER NOT NUll,\n",
    "                    duration_seconds INTEGER NOT NULL\n",
    "                )\"\"\")\n",
    "    curr.execute(create_table_command)"
   ]
  },
  {
   "cell_type": "code",
   "execution_count": null,
   "metadata": {},
   "outputs": [],
   "source": [
    "def insert_into_table(curr, video_id, video_title, upload_date, views, likes, comments, duration,\n",
    "                      caption, definition, year, month, duration_seconds):\n",
    "    insert_into_videos = (\"\"\"INSERT INTO videos (video_id, video_title, upload_date,\n",
    "                        views, likes, comments, duration, caption, definition, year,\n",
    "                        month, duration_seconds)\n",
    "    VALUES(%s,%s,%s,%s,%s,%s,%s,%s,%s,%s,%s,%s);\"\"\")\n",
    "    row_to_insert = (video_id, video_title, upload_date, views, likes, comments, duration, caption, definition, year,\n",
    "                        month, duration_seconds)\n",
    "    curr.execute(insert_into_videos, row_to_insert)"
   ]
  },
  {
   "cell_type": "code",
   "execution_count": null,
   "metadata": {},
   "outputs": [],
   "source": [
    "#update row if video exists\n",
    "def update_row(curr, video_id, video_title, views, likes, comments, duration, caption, definition, \\\n",
    "               year, month, duration_seconds):\n",
    "    query = (\"\"\"UPDATE videos\n",
    "                SET video_title = %s,\n",
    "                    views = %s,\n",
    "                    like = %s,\n",
    "                    comments = %s,\n",
    "                WHERE video_id = %s;\"\"\")\n",
    "\n",
    "    update_vars = (video_title, views, likes, comments, video_id, duration, caption, definition,\n",
    "                   year, month, duration_seconds)\n",
    "    curr.execute(query, update_vars)"
   ]
  },
  {
   "cell_type": "code",
   "execution_count": null,
   "metadata": {},
   "outputs": [],
   "source": [
    "def video_exists(curr, video_id):\n",
    "    query = (\"\"\"SELECT video_id FROM videos WHERE video_id = %s\"\"\")\n",
    "    curr.execute(query, (video_id,))\n",
    "\n",
    "    return curr.fetchone() is not None"
   ]
  },
  {
   "cell_type": "code",
   "execution_count": null,
   "metadata": {},
   "outputs": [],
   "source": [
    "def truncate_table(curr):\n",
    "    truncate_table = (\"\"\"TRUNCATE TABLE videos\"\"\")\n",
    "\n",
    "    curr.execute(truncate_table)"
   ]
  },
  {
   "cell_type": "code",
   "execution_count": null,
   "metadata": {},
   "outputs": [],
   "source": [
    "def append_from_df_to_db(curr,df):\n",
    "    for i, row in df.iterrows():\n",
    "        insert_into_table(curr, row['video_id'], row['video_title'], row['upload_date'], row['views']\n",
    "                            , row['likes'], row['comments'], row['duration'], row['caption'], row['definition'],\n",
    "                                row['year'], row['month'], row['duration_seconds'])"
   ]
  },
  {
   "cell_type": "code",
   "execution_count": null,
   "metadata": {},
   "outputs": [],
   "source": [
    "def update_db(curr, df):\n",
    "    tmp_df = pd.DataFrame(columns=['video_id', 'video_title', 'upload_date', 'views', 'likes', 'comments',\n",
    "                                'duration', 'caption', 'definition', 'year', 'month', 'duration_seconds'])\n",
    "\n",
    "    for i, row in df.iterrows():\n",
    "        if video_exists(curr, row['video_id']):\n",
    "            update_row(curr, row['video_id'], row['video_title'], row['views'], row['likes'], row['comments']\n",
    "                        , row['duration'], row['caption'], row['definition'],\n",
    "                            row['year'], row['month'], row['duration_seconds'])\n",
    "        else:\n",
    "            tmp_df = tmp_df.append(row)\n",
    "\n",
    "    return tmp_df"
   ]
  },
  {
   "cell_type": "code",
   "execution_count": null,
   "metadata": {},
   "outputs": [],
   "source": [
    "#Getting DB credentials\n",
    "hostname = os.getenv(\"hostname\")\n",
    "user = os.getenv(\"user\")\n",
    "password = os.getenv(\"password\")\n",
    "port = '5432'\n",
    "dbname = os.getenv(\"dbname\")\n",
    "connection = None\n",
    "\n",
    "connection = connect_database(hostname, user, password, port, dbname)\n",
    "curr = connection.cursor()"
   ]
  },
  {
   "cell_type": "code",
   "execution_count": null,
   "metadata": {},
   "outputs": [],
   "source": [
    "create_table(curr)"
   ]
  },
  {
   "cell_type": "code",
   "execution_count": null,
   "metadata": {},
   "outputs": [],
   "source": [
    "new_df = update_db(curr, df)\n",
    "connection.commit()"
   ]
  },
  {
   "cell_type": "code",
   "execution_count": null,
   "metadata": {},
   "outputs": [],
   "source": [
    "append_from_df_to_db(curr, new_df)\n",
    "connection.commit()"
   ]
  },
  {
   "cell_type": "code",
   "execution_count": null,
   "metadata": {},
   "outputs": [],
   "source": [
    "curr.execute(\"SELECT * FROM videos\")"
   ]
  }
 ],
 "metadata": {
  "interpreter": {
   "hash": "fa36b5fa72a22babb3a9905b2338427c596f340db7ba778fac801373c3245e74"
  },
  "kernelspec": {
   "display_name": "Python 3.10.1",
   "language": "python",
   "name": "python3"
  },
  "language_info": {
   "codemirror_mode": {
    "name": "ipython",
    "version": 3
   },
   "file_extension": ".py",
   "mimetype": "text/x-python",
   "name": "python",
   "nbconvert_exporter": "python",
   "pygments_lexer": "ipython3",
   "version": "3.10.1"
  },
  "orig_nbformat": 4
 },
 "nbformat": 4,
 "nbformat_minor": 2
}
