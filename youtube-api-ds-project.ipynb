{
 "cells": [
  {
   "cell_type": "markdown",
   "metadata": {},
   "source": [
    "# Part 1 - Gathering YouTube Channel Data"
   ]
  },
  {
   "cell_type": "code",
   "execution_count": 45,
   "metadata": {},
   "outputs": [],
   "source": [
    "#import libraries\n",
    "import requests\n",
    "import pandas as pd\n",
    "import numpy as np\n",
    "\n",
    "#Libraries needed to conceal API key/AWS RDB server info\n",
    "#Include a .gitignore and .env file to personalize script\n",
    "from dotenv import load_dotenv\n",
    "load_dotenv()\n",
    "import os"
   ]
  },
  {
   "cell_type": "code",
   "execution_count": null,
   "metadata": {},
   "outputs": [],
   "source": [
    "#Gathers views, likes and comments for a particular video ID passes by get_videos\n",
    "#Returns these metrics\n",
    "\n",
    "def video_detail(video_id):\n",
    "        video_stats_url = f'https://www.googleapis.com/youtube/v3/videos?key={API_KEY}&part=statistics&id='+video_id\n",
    "        response_video_stats = requests.get(video_stats_url).json()\n",
    "        views = response_video_stats['items'][0]['statistics']['viewCount']\n",
    "        likes = response_video_stats['items'][0]['statistics']['likeCount']\n",
    "        comments = response_video_stats['items'][0]['statistics']['commentCount']\n",
    "\n",
    "        return views, likes, comments"
   ]
  },
  {
   "cell_type": "code",
   "execution_count": null,
   "metadata": {},
   "outputs": [],
   "source": [
    "#Retrieves the description, caption and definition data by calling on the contentDetails property of API key\n",
    "#for a particular video\n",
    "#Returns these metrics\n",
    "\n",
    "def get_misc_detail(video_id):\n",
    "        misc_info_url = f'https://www.googleapis.com/youtube/v3/videos?key={API_KEY}&part=contentDetails&id='+video_id\n",
    "        response_misc_info = requests.get(misc_info_url).json()\n",
    "\n",
    "        description = response_misc_info['items'][0]['contentDetails']['duration']\n",
    "        caption = response_misc_info['items'][0]['contentDetails']['caption']\n",
    "        definition = response_misc_info['items'][0]['contentDetails']['definition']\n",
    "\n",
    "        return description, caption, definition"
   ]
  },
  {
   "cell_type": "code",
   "execution_count": null,
   "metadata": {},
   "outputs": [],
   "source": [
    "#Retriveves all videos from a Youtube channel\n",
    "\n",
    "def get_videos(df, url):\n",
    "    response = requests.get(url).json()\n",
    "\n",
    "    for video in response['items']:\n",
    "        if video['id']['kind'] == \"youtube#video\":\n",
    "            video_id = video['id']['videoId']\n",
    "            video_title = video['snippet']['title']\n",
    "            video_title = str(video_title).replace(\"&amp;\",\"and\")\n",
    "            upload_date = video['snippet']['publishTime']\n",
    "            upload_date = str(upload_date).split(\"T\")[0]\n",
    "\n",
    "            views, likes, comments = video_detail(video_id)\n",
    "            description, caption, definition = get_misc_detail(video_id)\n",
    "\n",
    "            df = df.append({'video_id':video_id, 'video_title':video_title, 'upload_date': upload_date,\n",
    "                            'views': views,'likes': likes,'comments': comments, 'description': description,\n",
    "                            'caption':caption, 'definition':definition}, ignore_index=True)\n",
    "\n",
    "    #If a new set of video results is present through the nextPageToken\n",
    "    #property, updates the URL and calls function on itself  \n",
    "    if \"nextPageToken\" in response:\n",
    "        pageToken = response['nextPageToken']\n",
    "        url = f'https://www.googleapis.com/youtube/v3/search?key={API_KEY}&channelId={CHANNEL_ID}&part=snippet,id&order=date&maxResults=50&pageToken='+pageToken\n",
    "        df = get_videos(df, url)   \n",
    "    return df"
   ]
  },
  {
   "cell_type": "code",
   "execution_count": null,
   "metadata": {},
   "outputs": [],
   "source": [
    "#Keys\n",
    "API_KEY = os.getenv(\"API_KEY\")\n",
    "\n",
    "CHANNEL_ID = os.getenv(\"CHANNEL_ID\")"
   ]
  },
  {
   "cell_type": "code",
   "execution_count": null,
   "metadata": {},
   "outputs": [],
   "source": [
    "#Creating a dataframe from data columns pulled from API calls\n",
    "df = pd.DataFrame(columns=['video_id', 'video_title','upload_date','views','likes','comments','description','caption','definition'])\n",
    "\n",
    "#Inital set of video results URL\n",
    "pageToken = \"\"\n",
    "url = f'https://www.googleapis.com/youtube/v3/search?key={API_KEY}&channelId={CHANNEL_ID}&part=snippet,id&order=date&maxResults=50&pageToken='+pageToken\n",
    "\n",
    "df = get_videos(df,url)"
   ]
  },
  {
   "cell_type": "markdown",
   "metadata": {},
   "source": [
    "# Part 2 - Cleaning Data"
   ]
  },
  {
   "cell_type": "code",
   "execution_count": 35,
   "metadata": {},
   "outputs": [
    {
     "data": {
      "text/html": [
       "<div>\n",
       "<style scoped>\n",
       "    .dataframe tbody tr th:only-of-type {\n",
       "        vertical-align: middle;\n",
       "    }\n",
       "\n",
       "    .dataframe tbody tr th {\n",
       "        vertical-align: top;\n",
       "    }\n",
       "\n",
       "    .dataframe thead th {\n",
       "        text-align: right;\n",
       "    }\n",
       "</style>\n",
       "<table border=\"1\" class=\"dataframe\">\n",
       "  <thead>\n",
       "    <tr style=\"text-align: right;\">\n",
       "      <th></th>\n",
       "      <th>video_id</th>\n",
       "      <th>video_title</th>\n",
       "      <th>upload_date</th>\n",
       "      <th>views</th>\n",
       "      <th>likes</th>\n",
       "      <th>comments</th>\n",
       "      <th>duration</th>\n",
       "      <th>caption</th>\n",
       "      <th>definition</th>\n",
       "      <th>year</th>\n",
       "      <th>month</th>\n",
       "      <th>duration_seconds</th>\n",
       "    </tr>\n",
       "  </thead>\n",
       "  <tbody>\n",
       "    <tr>\n",
       "      <th>0</th>\n",
       "      <td>kDWX2A0-9bg</td>\n",
       "      <td>Data Analyst MENTORSHIP -  QandA (while I drin...</td>\n",
       "      <td>2022-02-10</td>\n",
       "      <td>2894</td>\n",
       "      <td>144</td>\n",
       "      <td>5</td>\n",
       "      <td>PT55M57S</td>\n",
       "      <td>false</td>\n",
       "      <td>hd</td>\n",
       "      <td>2022</td>\n",
       "      <td>2</td>\n",
       "      <td>3357</td>\n",
       "    </tr>\n",
       "    <tr>\n",
       "      <th>1</th>\n",
       "      <td>wX1MzNUcmyM</td>\n",
       "      <td>Peopl ask me how to get data for portfolio pro...</td>\n",
       "      <td>2022-02-06</td>\n",
       "      <td>2385</td>\n",
       "      <td>79</td>\n",
       "      <td>10</td>\n",
       "      <td>PT21S</td>\n",
       "      <td>false</td>\n",
       "      <td>hd</td>\n",
       "      <td>2022</td>\n",
       "      <td>2</td>\n",
       "      <td>21</td>\n",
       "    </tr>\n",
       "    <tr>\n",
       "      <th>2</th>\n",
       "      <td>hGBCe1v9mPU</td>\n",
       "      <td>I recorded myself for 8 hours (as a data analyst)</td>\n",
       "      <td>2022-02-04</td>\n",
       "      <td>10570</td>\n",
       "      <td>406</td>\n",
       "      <td>91</td>\n",
       "      <td>PT15M39S</td>\n",
       "      <td>false</td>\n",
       "      <td>hd</td>\n",
       "      <td>2022</td>\n",
       "      <td>2</td>\n",
       "      <td>939</td>\n",
       "    </tr>\n",
       "    <tr>\n",
       "      <th>3</th>\n",
       "      <td>GZiT6t7Y3SM</td>\n",
       "      <td>Data Analyst MENTORSHIP -  QandA (while I drin...</td>\n",
       "      <td>2022-02-04</td>\n",
       "      <td>3010</td>\n",
       "      <td>149</td>\n",
       "      <td>3</td>\n",
       "      <td>PT48M40S</td>\n",
       "      <td>false</td>\n",
       "      <td>hd</td>\n",
       "      <td>2022</td>\n",
       "      <td>2</td>\n",
       "      <td>2920</td>\n",
       "    </tr>\n",
       "    <tr>\n",
       "      <th>4</th>\n",
       "      <td>FH0n5KaneeM</td>\n",
       "      <td>Data Analyst MENTORSHIP -  QandA (while I drin...</td>\n",
       "      <td>2022-01-28</td>\n",
       "      <td>2563</td>\n",
       "      <td>109</td>\n",
       "      <td>15</td>\n",
       "      <td>PT45M48S</td>\n",
       "      <td>false</td>\n",
       "      <td>hd</td>\n",
       "      <td>2022</td>\n",
       "      <td>1</td>\n",
       "      <td>2748</td>\n",
       "    </tr>\n",
       "  </tbody>\n",
       "</table>\n",
       "</div>"
      ],
      "text/plain": [
       "      video_id                                        video_title upload_date  \\\n",
       "0  kDWX2A0-9bg  Data Analyst MENTORSHIP -  QandA (while I drin...  2022-02-10   \n",
       "1  wX1MzNUcmyM  Peopl ask me how to get data for portfolio pro...  2022-02-06   \n",
       "2  hGBCe1v9mPU  I recorded myself for 8 hours (as a data analyst)  2022-02-04   \n",
       "3  GZiT6t7Y3SM  Data Analyst MENTORSHIP -  QandA (while I drin...  2022-02-04   \n",
       "4  FH0n5KaneeM  Data Analyst MENTORSHIP -  QandA (while I drin...  2022-01-28   \n",
       "\n",
       "   views  likes  comments  duration caption definition  year  month  \\\n",
       "0   2894    144         5  PT55M57S   false         hd  2022      2   \n",
       "1   2385     79        10     PT21S   false         hd  2022      2   \n",
       "2  10570    406        91  PT15M39S   false         hd  2022      2   \n",
       "3   3010    149         3  PT48M40S   false         hd  2022      2   \n",
       "4   2563    109        15  PT45M48S   false         hd  2022      1   \n",
       "\n",
       "   duration_seconds  \n",
       "0              3357  \n",
       "1                21  \n",
       "2               939  \n",
       "3              2920  \n",
       "4              2748  "
      ]
     },
     "execution_count": 35,
     "metadata": {},
     "output_type": "execute_result"
    }
   ],
   "source": [
    "df.head()"
   ]
  },
  {
   "cell_type": "code",
   "execution_count": 36,
   "metadata": {},
   "outputs": [
    {
     "data": {
      "text/plain": [
       "(98, 12)"
      ]
     },
     "execution_count": 36,
     "metadata": {},
     "output_type": "execute_result"
    }
   ],
   "source": [
    "#Checking to see if data has successfully been pulled\n",
    "df.shape"
   ]
  },
  {
   "cell_type": "code",
   "execution_count": 37,
   "metadata": {},
   "outputs": [
    {
     "data": {
      "text/plain": [
       "video_id                    object\n",
       "video_title                 object\n",
       "upload_date         datetime64[ns]\n",
       "views                        int64\n",
       "likes                        int64\n",
       "comments                     int64\n",
       "duration                    object\n",
       "caption                     object\n",
       "definition                  object\n",
       "year                         int64\n",
       "month                        int64\n",
       "duration_seconds             int64\n",
       "dtype: object"
      ]
     },
     "execution_count": 37,
     "metadata": {},
     "output_type": "execute_result"
    }
   ],
   "source": [
    "#Checking column datatypes for DF\n",
    "df.dtypes"
   ]
  },
  {
   "cell_type": "code",
   "execution_count": 38,
   "metadata": {},
   "outputs": [
    {
     "data": {
      "text/plain": [
       "video_id                    object\n",
       "video_title                 object\n",
       "upload_date         datetime64[ns]\n",
       "views                        int64\n",
       "likes                        int64\n",
       "comments                     int64\n",
       "duration                    object\n",
       "caption                     object\n",
       "definition                  object\n",
       "year                         int64\n",
       "month                        int64\n",
       "duration_seconds             int64\n",
       "dtype: object"
      ]
     },
     "execution_count": 38,
     "metadata": {},
     "output_type": "execute_result"
    }
   ],
   "source": [
    "#Cleaning DF data types\n",
    "df['views'] = df.views.astype('int64')\n",
    "df['likes'] = df.likes.astype('int64')\n",
    "df['comments'] = df.comments.astype('int64')\n",
    "\n",
    "df['upload_date'] = pd.to_datetime(df['upload_date'])\n",
    "df['year'] = pd.DatetimeIndex(df['upload_date']).year\n",
    "df['month'] = pd.DatetimeIndex(df['upload_date']).month\n",
    "\n",
    "df.rename(columns={'description': 'duration'}, inplace=True)\n",
    "\n",
    "df.dtypes\n"
   ]
  },
  {
   "cell_type": "code",
   "execution_count": 40,
   "metadata": {},
   "outputs": [],
   "source": [
    "#Function to trasnform 'duration' column into data analysis friendly format\n",
    "#Credit goes to https://stackoverflow.com/questions/16742381/how-to-convert-youtube-api-duration-to-seconds\n",
    "#for this custom script\n",
    "import re\n",
    "\n",
    "def YTDurationToSeconds(duration):\n",
    "    match = re.match('PT((\\d+)H)?((\\d+)M)?((\\d+)S)?', duration).groups()\n",
    "    hours = int(match[1]) if match[1] else 0\n",
    "    minutes = int(match[3]) if match[3] else 0\n",
    "    seconds = int(match[5]) if match[5] else 0\n",
    "    return hours * 3600 + minutes * 60 + seconds"
   ]
  },
  {
   "cell_type": "code",
   "execution_count": 41,
   "metadata": {},
   "outputs": [
    {
     "data": {
      "text/plain": [
       "dtype('int64')"
      ]
     },
     "execution_count": 41,
     "metadata": {},
     "output_type": "execute_result"
    }
   ],
   "source": [
    "#Converting 'duration' into total seconds as INT\n",
    "df['duration_seconds'] = df.iloc[0:,6].apply(YTDurationToSeconds)\n",
    "df['duration_seconds'].dtype\n",
    "    "
   ]
  },
  {
   "cell_type": "code",
   "execution_count": 42,
   "metadata": {},
   "outputs": [
    {
     "data": {
      "text/plain": [
       "video_id   \n",
       "-AbAm4t4FYQ    1\n",
       "lvOmRG5RDa0    1\n",
       "kfyzggSVAhI    1\n",
       "kDWX2A0-9bg    1\n",
       "jsctaXiF1Fo    1\n",
       "              ..\n",
       "KLjTAcH7Ikk    1\n",
       "IuQZ4excAvo    1\n",
       "IiOB4NuBBd0    1\n",
       "HuuLEjBE-Ao    1\n",
       "z0t7U5PED5A    1\n",
       "Length: 98, dtype: int64"
      ]
     },
     "execution_count": 42,
     "metadata": {},
     "output_type": "execute_result"
    }
   ],
   "source": [
    "#Ensuring no duplicate videos, drop if needed\n",
    "df.value_counts(['video_id'])"
   ]
  },
  {
   "cell_type": "code",
   "execution_count": 44,
   "metadata": {},
   "outputs": [
    {
     "data": {
      "text/html": [
       "<div>\n",
       "<style scoped>\n",
       "    .dataframe tbody tr th:only-of-type {\n",
       "        vertical-align: middle;\n",
       "    }\n",
       "\n",
       "    .dataframe tbody tr th {\n",
       "        vertical-align: top;\n",
       "    }\n",
       "\n",
       "    .dataframe thead th {\n",
       "        text-align: right;\n",
       "    }\n",
       "</style>\n",
       "<table border=\"1\" class=\"dataframe\">\n",
       "  <thead>\n",
       "    <tr style=\"text-align: right;\">\n",
       "      <th></th>\n",
       "      <th>video_id</th>\n",
       "      <th>video_title</th>\n",
       "      <th>upload_date</th>\n",
       "      <th>views</th>\n",
       "      <th>likes</th>\n",
       "      <th>comments</th>\n",
       "      <th>duration</th>\n",
       "      <th>caption</th>\n",
       "      <th>definition</th>\n",
       "      <th>year</th>\n",
       "      <th>month</th>\n",
       "      <th>duration_seconds</th>\n",
       "    </tr>\n",
       "  </thead>\n",
       "  <tbody>\n",
       "    <tr>\n",
       "      <th>0</th>\n",
       "      <td>kDWX2A0-9bg</td>\n",
       "      <td>Data Analyst MENTORSHIP -  QandA (while I drin...</td>\n",
       "      <td>2022-02-10</td>\n",
       "      <td>2894</td>\n",
       "      <td>144</td>\n",
       "      <td>5</td>\n",
       "      <td>PT55M57S</td>\n",
       "      <td>false</td>\n",
       "      <td>hd</td>\n",
       "      <td>2022</td>\n",
       "      <td>2</td>\n",
       "      <td>3357</td>\n",
       "    </tr>\n",
       "    <tr>\n",
       "      <th>1</th>\n",
       "      <td>wX1MzNUcmyM</td>\n",
       "      <td>Peopl ask me how to get data for portfolio pro...</td>\n",
       "      <td>2022-02-06</td>\n",
       "      <td>2385</td>\n",
       "      <td>79</td>\n",
       "      <td>10</td>\n",
       "      <td>PT21S</td>\n",
       "      <td>false</td>\n",
       "      <td>hd</td>\n",
       "      <td>2022</td>\n",
       "      <td>2</td>\n",
       "      <td>21</td>\n",
       "    </tr>\n",
       "    <tr>\n",
       "      <th>2</th>\n",
       "      <td>hGBCe1v9mPU</td>\n",
       "      <td>I recorded myself for 8 hours (as a data analyst)</td>\n",
       "      <td>2022-02-04</td>\n",
       "      <td>10570</td>\n",
       "      <td>406</td>\n",
       "      <td>91</td>\n",
       "      <td>PT15M39S</td>\n",
       "      <td>false</td>\n",
       "      <td>hd</td>\n",
       "      <td>2022</td>\n",
       "      <td>2</td>\n",
       "      <td>939</td>\n",
       "    </tr>\n",
       "    <tr>\n",
       "      <th>3</th>\n",
       "      <td>GZiT6t7Y3SM</td>\n",
       "      <td>Data Analyst MENTORSHIP -  QandA (while I drin...</td>\n",
       "      <td>2022-02-04</td>\n",
       "      <td>3010</td>\n",
       "      <td>149</td>\n",
       "      <td>3</td>\n",
       "      <td>PT48M40S</td>\n",
       "      <td>false</td>\n",
       "      <td>hd</td>\n",
       "      <td>2022</td>\n",
       "      <td>2</td>\n",
       "      <td>2920</td>\n",
       "    </tr>\n",
       "    <tr>\n",
       "      <th>4</th>\n",
       "      <td>FH0n5KaneeM</td>\n",
       "      <td>Data Analyst MENTORSHIP -  QandA (while I drin...</td>\n",
       "      <td>2022-01-28</td>\n",
       "      <td>2563</td>\n",
       "      <td>109</td>\n",
       "      <td>15</td>\n",
       "      <td>PT45M48S</td>\n",
       "      <td>false</td>\n",
       "      <td>hd</td>\n",
       "      <td>2022</td>\n",
       "      <td>1</td>\n",
       "      <td>2748</td>\n",
       "    </tr>\n",
       "  </tbody>\n",
       "</table>\n",
       "</div>"
      ],
      "text/plain": [
       "      video_id                                        video_title upload_date  \\\n",
       "0  kDWX2A0-9bg  Data Analyst MENTORSHIP -  QandA (while I drin...  2022-02-10   \n",
       "1  wX1MzNUcmyM  Peopl ask me how to get data for portfolio pro...  2022-02-06   \n",
       "2  hGBCe1v9mPU  I recorded myself for 8 hours (as a data analyst)  2022-02-04   \n",
       "3  GZiT6t7Y3SM  Data Analyst MENTORSHIP -  QandA (while I drin...  2022-02-04   \n",
       "4  FH0n5KaneeM  Data Analyst MENTORSHIP -  QandA (while I drin...  2022-01-28   \n",
       "\n",
       "   views  likes  comments  duration caption definition  year  month  \\\n",
       "0   2894    144         5  PT55M57S   false         hd  2022      2   \n",
       "1   2385     79        10     PT21S   false         hd  2022      2   \n",
       "2  10570    406        91  PT15M39S   false         hd  2022      2   \n",
       "3   3010    149         3  PT48M40S   false         hd  2022      2   \n",
       "4   2563    109        15  PT45M48S   false         hd  2022      1   \n",
       "\n",
       "   duration_seconds  \n",
       "0              3357  \n",
       "1                21  \n",
       "2               939  \n",
       "3              2920  \n",
       "4              2748  "
      ]
     },
     "execution_count": 44,
     "metadata": {},
     "output_type": "execute_result"
    }
   ],
   "source": [
    "#Checking to see if updated column has successfully been added\n",
    "df.head(5)"
   ]
  },
  {
   "cell_type": "markdown",
   "metadata": {},
   "source": [
    "Now that we've clean our data for analysis, we can create a database to store a YouTube channel's video info!\n"
   ]
  },
  {
   "cell_type": "markdown",
   "metadata": {},
   "source": [
    "# Part 3 - Storing Data to Database for Future Use\n",
    "### Use Amazon AWS RDB (Postgres) for free database storage!"
   ]
  },
  {
   "cell_type": "code",
   "execution_count": null,
   "metadata": {},
   "outputs": [],
   "source": [
    "#Installing packages\n",
    "%pip install psycopg2\n",
    "import psycopg2 as ps"
   ]
  },
  {
   "cell_type": "code",
   "execution_count": null,
   "metadata": {},
   "outputs": [],
   "source": [
    "#Connecting to AWS Database\n",
    "\n",
    "def connect_database(hostname, user, password, port, dbname):\n",
    "    try:\n",
    "        connection = ps.connect(host=hostname,user=user,password=password,port=port,database=dbname)\n",
    "    except ps.OperationalError as e:\n",
    "        raise e\n",
    "    else:\n",
    "        print('Successfully Connected to AWS Database :)')\n",
    "    return connection"
   ]
  },
  {
   "cell_type": "code",
   "execution_count": null,
   "metadata": {},
   "outputs": [],
   "source": [
    "#Creating SQL table statement\n",
    "def create_table(curr):\n",
    "    create_table_command = (\"\"\"CREATE TABLE IF NOT EXISTS videos (\n",
    "                    video_id VARCHAR(255) PRIMARY KEY,\n",
    "                    video_title TEXT NOT NULL,\n",
    "                    upload_date DATE NOT NULL DEFAULT CURRENT_DATE,\n",
    "                    views INTEGER NOT NULL,\n",
    "                    likes INTEGER NOT NULL,\n",
    "                    comments INTEGER NOT NULL,\n",
    "                    duration TEXT NOT NULL,\n",
    "                    caption TEXT NOT NULL,\n",
    "                    definition TEXT NOT NULL,\n",
    "                    year INTEGER NOT NULL,\n",
    "                    month INTEGER NOT NUll,\n",
    "                    duration_seconds INTEGER NOT NULL\n",
    "                )\"\"\")\n",
    "    curr.execute(create_table_command)"
   ]
  },
  {
   "cell_type": "code",
   "execution_count": null,
   "metadata": {},
   "outputs": [],
   "source": [
    "def insert_into_table(curr, video_id, video_title, upload_date, views, likes, comments, duration,\n",
    "                      caption, definition, year, month, duration_seconds):\n",
    "    insert_into_videos = (\"\"\"INSERT INTO videos (video_id, video_title, upload_date,\n",
    "                        views, likes, comments, duration, caption, definition, year,\n",
    "                        month, duration_seconds)\n",
    "    VALUES(%s,%s,%s,%s,%s,%s,%s,%s,%s,%s,%s,%s);\"\"\")\n",
    "    row_to_insert = (video_id, video_title, upload_date, views, likes, comments, duration, caption, definition, year,\n",
    "                        month, duration_seconds)\n",
    "    curr.execute(insert_into_videos, row_to_insert)"
   ]
  },
  {
   "cell_type": "code",
   "execution_count": null,
   "metadata": {},
   "outputs": [],
   "source": [
    "#update row if video exists\n",
    "def update_row(curr, video_id, video_title, views, likes, comments, duration, caption, definition, \\\n",
    "               year, month, duration_seconds):\n",
    "    query = (\"\"\"UPDATE videos\n",
    "                SET video_title = %s,\n",
    "                    views = %s,\n",
    "                    like = %s,\n",
    "                    comments = %s,\n",
    "                WHERE video_id = %s;\"\"\")\n",
    "\n",
    "    update_vars = (video_title, views, likes, comments, video_id, duration, caption, definition,\n",
    "                   year, month, duration_seconds)\n",
    "    curr.execute(query, update_vars)"
   ]
  },
  {
   "cell_type": "code",
   "execution_count": null,
   "metadata": {},
   "outputs": [],
   "source": [
    "def video_exists(curr, video_id):\n",
    "    query = (\"\"\"SELECT video_id FROM videos WHERE video_id = %s\"\"\")\n",
    "    curr.execute(query, (video_id,))\n",
    "\n",
    "    return curr.fetchone() is not None"
   ]
  },
  {
   "cell_type": "code",
   "execution_count": null,
   "metadata": {},
   "outputs": [],
   "source": [
    "def truncate_table(curr):\n",
    "    truncate_table = (\"\"\"TRUNCATE TABLE videos\"\"\")\n",
    "\n",
    "    curr.execute(truncate_table)"
   ]
  },
  {
   "cell_type": "code",
   "execution_count": null,
   "metadata": {},
   "outputs": [],
   "source": [
    "def append_from_df_to_db(curr,df):\n",
    "    for i, row in df.iterrows():\n",
    "        insert_into_table(curr, row['video_id'], row['video_title'], row['upload_date'], row['views']\n",
    "                            , row['likes'], row['comments'], row['duration'], row['caption'], row['definition'],\n",
    "                                row['year'], row['month'], row['duration_seconds'])"
   ]
  },
  {
   "cell_type": "code",
   "execution_count": null,
   "metadata": {},
   "outputs": [],
   "source": [
    "def update_db(curr, df):\n",
    "    tmp_df = pd.DataFrame(columns=['video_id', 'video_title', 'upload_date', 'views', 'likes', 'comments',\n",
    "                                'duration', 'caption', 'definition', 'year', 'month', 'duration_seconds'])\n",
    "\n",
    "    for i, row in df.iterrows():\n",
    "        if video_exists(curr, row['video_id']):\n",
    "            update_row(curr, row['video_id'], row['video_title'], row['views'], row['likes'], row['comments']\n",
    "                        , row['duration'], row['caption'], row['definition'],\n",
    "                            row['year'], row['month'], row['duration_seconds'])\n",
    "        else:\n",
    "            tmp_df = tmp_df.append(row)\n",
    "\n",
    "    return tmp_df"
   ]
  },
  {
   "cell_type": "code",
   "execution_count": null,
   "metadata": {},
   "outputs": [],
   "source": [
    "#Getting DB credentials\n",
    "hostname = os.getenv(\"hostname\")\n",
    "user = os.getenv(\"user\")\n",
    "password = os.getenv(\"password\")\n",
    "port = '5432'\n",
    "dbname = os.getenv(\"dbname\")\n",
    "connection = None\n",
    "\n",
    "connection = connect_database(hostname, user, password, port, dbname)\n",
    "curr = connection.cursor()"
   ]
  },
  {
   "cell_type": "code",
   "execution_count": null,
   "metadata": {},
   "outputs": [],
   "source": [
    "#Create table\n",
    "create_table(curr)"
   ]
  },
  {
   "cell_type": "code",
   "execution_count": null,
   "metadata": {},
   "outputs": [],
   "source": [
    "#Updating database\n",
    "new_df = update_db(curr, df)\n",
    "connection.commit()"
   ]
  },
  {
   "cell_type": "code",
   "execution_count": null,
   "metadata": {},
   "outputs": [],
   "source": [
    "#Transferring new data to database\n",
    "append_from_df_to_db(curr, new_df)\n",
    "connection.commit()"
   ]
  },
  {
   "cell_type": "code",
   "execution_count": null,
   "metadata": {},
   "outputs": [],
   "source": [
    "curr.execute(\"SELECT * FROM videos\")"
   ]
  }
 ],
 "metadata": {
  "interpreter": {
   "hash": "fa36b5fa72a22babb3a9905b2338427c596f340db7ba778fac801373c3245e74"
  },
  "kernelspec": {
   "display_name": "Python 3.10.1",
   "language": "python",
   "name": "python3"
  },
  "language_info": {
   "codemirror_mode": {
    "name": "ipython",
    "version": 3
   },
   "file_extension": ".py",
   "mimetype": "text/x-python",
   "name": "python",
   "nbconvert_exporter": "python",
   "pygments_lexer": "ipython3",
   "version": "3.10.1"
  },
  "orig_nbformat": 4
 },
 "nbformat": 4,
 "nbformat_minor": 2
}
